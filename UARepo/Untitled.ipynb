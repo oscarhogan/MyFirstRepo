{
 "cells": [
  {
   "cell_type": "code",
   "execution_count": 3,
   "id": "2be6ca49-acb4-4331-9d2f-082f798b1fd2",
   "metadata": {},
   "outputs": [
    {
     "name": "stdout",
     "output_type": "stream",
     "text": [
      "Hello, world!\n"
     ]
    }
   ],
   "source": [
    "print(\"Hello, world!\")\n"
   ]
  },
  {
   "cell_type": "markdown",
   "id": "55f208e5-27f0-4a95-b47c-7fb8f5eeb412",
   "metadata": {},
   "source": [
    "# My First Markdown Heading\n",
    "## My Second Markdown Heading"
   ]
  },
  {
   "cell_type": "markdown",
   "id": "b4ce5793-6306-4a08-b113-0779bb16d24d",
   "metadata": {},
   "source": [
    "This is some *bold* text\n",
    "1. Item Number 1\n",
    "2. Item Number 2\n",
    "3. Item Number 3"
   ]
  },
  {
   "cell_type": "code",
   "execution_count": 4,
   "id": "51ca18e1-1263-48fb-b7be-7cb4e80b13c3",
   "metadata": {},
   "outputs": [
    {
     "data": {
      "text/plain": [
       "5"
      ]
     },
     "execution_count": 4,
     "metadata": {},
     "output_type": "execute_result"
    }
   ],
   "source": [
    "my_var = 5\n",
    "my_var"
   ]
  },
  {
   "cell_type": "code",
   "execution_count": 5,
   "id": "f2bd00cd-7f50-4370-a5c8-6e4a92ccf205",
   "metadata": {},
   "outputs": [
    {
     "data": {
      "text/plain": [
       "25"
      ]
     },
     "execution_count": 5,
     "metadata": {},
     "output_type": "execute_result"
    }
   ],
   "source": [
    "result = my_var * 5\n",
    "result"
   ]
  },
  {
   "cell_type": "code",
   "execution_count": null,
   "id": "e70079ae-bb0e-475b-b85a-ae05332f1bee",
   "metadata": {},
   "outputs": [],
   "source": []
  }
 ],
 "metadata": {
  "kernelspec": {
   "display_name": "Python 3 (ipykernel)",
   "language": "python",
   "name": "python3"
  },
  "language_info": {
   "codemirror_mode": {
    "name": "ipython",
    "version": 3
   },
   "file_extension": ".py",
   "mimetype": "text/x-python",
   "name": "python",
   "nbconvert_exporter": "python",
   "pygments_lexer": "ipython3",
   "version": "3.10.13"
  }
 },
 "nbformat": 4,
 "nbformat_minor": 5
}
