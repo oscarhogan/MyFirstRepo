{
 "cells": [
  {
   "cell_type": "markdown",
   "id": "7aee5db5-d4d9-43ba-9da3-5ea6cf929ced",
   "metadata": {
    "jp-MarkdownHeadingCollapsed": true
   },
   "source": [
    "\n",
    "# Urban Analytics: A Toolkit for Sustainable Urban Development.\n",
    "\n",
    "## Notebook to practice the Python Basics\n",
    "\n",
    "---\n",
    "\n",
    "Dr Fernando Benitez-Paez -  University of St Andrews - School of Geography and Sustainable Development Iteration 2024-1.0"
   ]
  },
  {
   "cell_type": "markdown",
   "id": "c992eb8c-23bc-4675-ac2c-2ac37cdee82b",
   "metadata": {},
   "source": [
    "# Exercise 1:  Introduction to Markdown\n",
    "\n",
    "* In the following Markdown cell, write your name, you student ID, your github user, and the URL of your UA repo in github.\n",
    "* Insert three links to your favourite websites.\n",
    "* Check this website to get all the syntax from Markdown https://www.markdownguide.org/basic-syntax/"
   ]
  },
  {
   "cell_type": "markdown",
   "id": "61b291e0",
   "metadata": {},
   "source": [
    "Oscar Hogan\n",
    "ofh1\n",
    "oscarhogan\n"
   ]
  },
  {
   "cell_type": "markdown",
   "id": "31f919a6-948b-471f-9d1b-cafff54bf19a",
   "metadata": {},
   "source": [
    "# Challenge 1: \n",
    " Create a table with required columns and rows to represent the type of roads in the UK. The table should include headers and hiperlinks."
   ]
  },
  {
   "cell_type": "code",
   "execution_count": 8,
   "id": "a3122498-0c3f-45dd-88f8-9a2e603e9058",
   "metadata": {},
   "outputs": [
    {
     "name": "stdout",
     "output_type": "stream",
     "text": [
      "Requirement already satisfied: tabulate in c:\\users\\oscar\\miniforge-pypy3\\envs\\ua\\lib\\site-packages (0.9.0)\n",
      "+-------------+--------------------------------------------------------------------------------------+\n",
      "| Road Type   | Information                                                                          |\n",
      "+=============+======================================================================================+\n",
      "| Motorway    | [Learn more](https://www.gov.uk/guidance/the-highway-code/motorways-253-to-273)      |\n",
      "+-------------+--------------------------------------------------------------------------------------+\n",
      "| A Road      | [Learn more](https://www.gov.uk/guidance/the-highway-code/using-the-road-212-to-215) |\n",
      "+-------------+--------------------------------------------------------------------------------------+\n",
      "| B Road      | [Learn more](https://www.gov.uk/guidance/the-highway-code/using-the-road-221-to-234) |\n",
      "+-------------+--------------------------------------------------------------------------------------+\n"
     ]
    }
   ],
   "source": [
    "!pip install tabulate\n",
    "\n",
    "from tabulate import tabulate\n",
    "\n",
    "mydata = [\n",
    "    [\"Motorway\", \"[Learn more](https://www.gov.uk/guidance/the-highway-code/motorways-253-to-273)\"],\n",
    "    [\"A Road\", \"[Learn more](https://www.gov.uk/guidance/the-highway-code/using-the-road-212-to-215)\"],\n",
    "    [\"B Road\", \"[Learn more](https://www.gov.uk/guidance/the-highway-code/using-the-road-221-to-234)\"]\n",
    "]\n",
    "# Heading\n",
    "head = [\"Road Type\", \"Information\"]\n",
    "print(tabulate(mydata, headers=head, tablefmt=\"grid\"))\n",
    "\n"
   ]
  },
  {
   "cell_type": "markdown",
   "id": "01df08d4-ef70-4b32-aa07-36a1978994b1",
   "metadata": {},
   "source": [
    "# Exercise 2:  Working with Variables\n",
    "\n",
    "* Declare two variables, num1 and num2, with values 5 and 8 respectively\n",
    "* Sum these variables and print the results \n",
    "* Swap the values of num1 and num2.\n"
   ]
  },
  {
   "cell_type": "code",
   "execution_count": 9,
   "id": "4ca2f64a-2174-4c76-97fd-3b4cc1e347cd",
   "metadata": {},
   "outputs": [
    {
     "name": "stdout",
     "output_type": "stream",
     "text": [
      "Sum: 13\n",
      "Swapped values: num1=8, num2=5\n"
     ]
    }
   ],
   "source": [
    "num1 = 5\n",
    "num2 = 8\n",
    "\n",
    "# Sum the previous variables and print the result. Recall how we can use the f marker to style the outcome\n",
    "sum_result = num1 + num2\n",
    "print(f\"Sum: {sum_result}\")\n",
    "\n",
    "# Swap the values of num1 and num2. Recall how variables can be modified \n",
    "num1, num2 = num2, num1\n",
    "print(f\"Swapped values: num1={num1}, num2={num2}\")"
   ]
  },
  {
   "cell_type": "markdown",
   "id": "ac1dedd1-f71b-482f-9244-447d01070c38",
   "metadata": {},
   "source": [
    "# Challenge 2:\n",
    "\n",
    "In the following cell, create the code to calculate the average of three numbers and print the result. There is no need for functions. Comment your code and the process.\n"
   ]
  },
  {
   "cell_type": "code",
   "execution_count": 11,
   "id": "89a240c1-dc96-47f8-add8-0d9754463507",
   "metadata": {},
   "outputs": [
    {
     "name": "stdin",
     "output_type": "stream",
     "text": [
      "first number:  1\n",
      "second number:  4\n",
      "third number:  7\n"
     ]
    },
    {
     "name": "stdout",
     "output_type": "stream",
     "text": [
      "The average of 1.0, 4.0, and 7.0 is: 4.0\n"
     ]
    }
   ],
   "source": [
    "num1 = float(input(\"first number: \"))\n",
    "num2 = float(input(\"second number: \"))\n",
    "num3 = float(input(\"third number: \"))\n",
    "\n",
    "# Calculate the average\n",
    "average = (num1 + num2 + num3) / 3\n",
    "\n",
    "# Print the result\n",
    "print(f\"The average of {num1}, {num2}, and {num3} is: {average}\")"
   ]
  },
  {
   "cell_type": "markdown",
   "id": "65c5dd43-be0a-4d74-8759-93c8a9ce6a96",
   "metadata": {},
   "source": [
    "# Exercise 3: Logical Operator\n",
    "\n",
    "Logical operators are used to combine conditional statements:\n",
    "\n",
    "* Declare two variables, x and y, with values 10 ad 20\n",
    "* Check if x is greater than 5 **and** y is lesshan 30\n",
    "* Check if either x is less than 5 **or** y is greater than 30."
   ]
  },
  {
   "cell_type": "code",
   "execution_count": 12,
   "id": "36cf4ad8-fcb6-40ac-8738-3d7629784f1a",
   "metadata": {},
   "outputs": [
    {
     "name": "stdout",
     "output_type": "stream",
     "text": [
      "Both conditions are True.\n"
     ]
    }
   ],
   "source": [
    "x = 10\n",
    "y = 20\n",
    "\n",
    "# Check if x is greater than 5 and y is less than 30.\n",
    "if x > 5 and y < 30:\n",
    "    print(\"Both conditions are True.\")"
   ]
  },
  {
   "cell_type": "code",
   "execution_count": 15,
   "id": "60de975c-1a06-407d-92d3-e12865ae5a34",
   "metadata": {},
   "outputs": [],
   "source": [
    "# Check if either x is less than 5 or y is greater than 30.\n",
    "if x < 5 or y > 30:\n",
    "    print(\"At least one condition is True\")"
   ]
  },
  {
   "cell_type": "markdown",
   "id": "e0ad167f-3dc8-4222-8ab1-c19605ad477e",
   "metadata": {},
   "source": [
    "# Challenge 3:\n",
    "\n",
    "Write a condition to check if a number is even."
   ]
  },
  {
   "cell_type": "code",
   "execution_count": 18,
   "id": "691f21d4",
   "metadata": {},
   "outputs": [
    {
     "name": "stdin",
     "output_type": "stream",
     "text": [
      "number:  4\n"
     ]
    },
    {
     "name": "stdout",
     "output_type": "stream",
     "text": [
      "The number in question is even\n"
     ]
    }
   ],
   "source": [
    "x = float(input(\"number: \"))\n",
    "\n",
    "if x % 2 == 0:\n",
    "    print(\"The number in question is even\")\n",
    "else:\n",
    "    print(\"The specified number is odd\")"
   ]
  },
  {
   "cell_type": "markdown",
   "id": "4d73e738",
   "metadata": {},
   "source": [
    "# Exercise 4: Loops\n",
    "\n",
    "Loops are used to repeat a block of code.\n",
    "\n",
    "For and While Loops:\n",
    "\n",
    "* Use a for loop to print numbers from 1 to 5.\n",
    "* Use a while loop to print even numbers from 2 to 8.\n",
    "* Calculate the sum of numbers from 1 to 10 using a loop."
   ]
  },
  {
   "cell_type": "code",
   "execution_count": 24,
   "id": "f41b80fc",
   "metadata": {},
   "outputs": [
    {
     "name": "stdout",
     "output_type": "stream",
     "text": [
      "The initial loop included: 1\n",
      "The initial loop included: 2\n",
      "The initial loop included: 3\n",
      "The initial loop included: 4\n",
      "The initial loop included: 5\n",
      "The second loop included: 2\n",
      "The second loop included: 4\n",
      "The second loop included: 6\n",
      "The second loop included: 8\n",
      "The last loop included: 1\n",
      "The last loop included: 3\n",
      "The last loop included: 6\n",
      "The last loop included: 10\n",
      "The last loop included: 15\n",
      "The last loop included: 21\n",
      "The last loop included: 28\n",
      "The last loop included: 36\n",
      "The last loop included: 45\n",
      "The last loop included: 55\n"
     ]
    }
   ],
   "source": [
    "# Using a for loop to print numbers from 1 to 5.\n",
    "for i in range(1, 6):\n",
    "    print(f\"The initial loop included: {i}\")\n",
    "\n",
    "# Using now a while loop to print even numbers from 2 to 8.\n",
    "num = 2\n",
    "while num <= 8:\n",
    "    print(f\"The second loop included: {num}\")\n",
    "    num += 2\n",
    "\n",
    "# Whait if you need to calculate the sum of numbers from 1 to 10 using a loop.\n",
    "sum_numbers = 0\n",
    "for j in range(1, 11):\n",
    "    sum_numbers += j\n",
    "    print(f\"The last loop included: {sum_numbers}\")"
   ]
  },
  {
   "cell_type": "markdown",
   "id": "26c526d3",
   "metadata": {},
   "source": [
    "# Challenge 4:\n",
    "\n",
    "Write the python code  to find the factorial of a number using a loop. Thefactorial of a number (integer positive) is the sum of multiplication of all the integers smaller than that positive integer. For example, factorial of **5** is:\n",
    "\n",
    "5 * 4 * 3 * 2 * 1 which equals to 120. \n",
    "\n",
    "How you can do that in a python script?, please try your best without using google."
   ]
  },
  {
   "cell_type": "code",
   "execution_count": 33,
   "id": "a3962029",
   "metadata": {},
   "outputs": [
    {
     "name": "stdin",
     "output_type": "stream",
     "text": [
      "number:  4\n"
     ]
    },
    {
     "name": "stdout",
     "output_type": "stream",
     "text": [
      "The factorial of 4 is: 6\n"
     ]
    }
   ],
   "source": [
    "x = float(input(\"number: \"))\n",
    "x = int(x)\n",
    "\n",
    "factorial = 1\n",
    "\n",
    "for i in range(1, x+1):\n",
    "    factorial *= i\n",
    "\n",
    "print(f\"The factorial of {x} is: {factorial}\")"
   ]
  },
  {
   "cell_type": "markdown",
   "id": "55bb9c04",
   "metadata": {},
   "source": [
    "# Exercise 5: If-else Statements\n",
    "\n",
    "* Declare a variable age and check **if** it's greater than 18.\n",
    "* Use **elif** to check if age is between 13 and 18.\n",
    "* **If** neither condition is met, print \"Age is below 13\".\n",
    "* Could you implement a simple **rock-paper-scissors** game using if-else statements?"
   ]
  },
  {
   "cell_type": "code",
   "execution_count": null,
   "id": "c23a4118",
   "metadata": {},
   "outputs": [],
   "source": [
    "age = int(input(\"Enter the age\"))\n",
    "\n",
    "\n",
    "# Check if the variable age is greater than 18.\n",
    "if age > 18:\n",
    "    print(\"You are an adult.\")\n",
    "# Use elif to check if age is between 13 and 18.\n",
    "elif 13 <= age <= 18:\n",
    "    print(\"You are a teenager.\")\n",
    "    # If neither condition is met, print \"Age is below 13.\"\n",
    "else:\n",
    "    print(\"Age is below 13.\")\n",
    "\n",
    "# A simple rock-paper-scissors game using if-else statements, should be something like this\n",
    "\n",
    "import random\n",
    "#We need a random library to make a fun game againts the computer, and the code has small issue can you fixed?\n",
    "\n",
    "player_choice = input(\"Enter your choice (rock, paper, or scissors): \")\n",
    "choices = [\"rock\", \"paper\", \"scissors\"]\n",
    "computer_choice = random.choice(choices)\n",
    "print(f\"Your choice: {player_choice}\")\n",
    "print(f\"Computer's choice: {computer_choice}\")\n",
    "\n",
    "if player_choice == computer_choice:\n",
    "    print(\"It's a tie!\")\n",
    "    elif (\n",
    "        (player_choice == \"rock\" and computer_choice == \"scissors\")\n",
    "        or (player_choice == \"paper\" and computer_choice == \"rock\")\n",
    "        or (player_choice == \"scissors\" and computer_choice == \"paper\")\n",
    "    ):\n",
    "    print(\"You win!\")\n",
    "else:\n",
    "    print(\"Computer wins!\")\n"
   ]
  },
  {
   "cell_type": "markdown",
   "id": "e496de32",
   "metadata": {},
   "source": [
    "# Challenge 5:\n",
    "\n",
    "Help me to write the python code, I can use to provide the grades based on the marks according to the following table:\n",
    "\n",
    "| Mark   | Grade |\n",
    "|--------|-------|\n",
    "| 81-100 | 20    |\n",
    "| 61-80  | 15    |\n",
    "| 41-60  | 10    |\n",
    "| 20-40  | 5     |\n"
   ]
  },
  {
   "cell_type": "code",
   "execution_count": 38,
   "id": "d3a89aa0",
   "metadata": {},
   "outputs": [
    {
     "name": "stdin",
     "output_type": "stream",
     "text": [
      "Enter the mark:  15\n"
     ]
    },
    {
     "name": "stdout",
     "output_type": "stream",
     "text": [
      "No Grade\n"
     ]
    }
   ],
   "source": [
    "mark = int(input(\"Enter the mark: \"))\n",
    "\n",
    "if mark > 80:\n",
    "    print(\"Grade 20\")\n",
    "elif 60 <= mark <= 80:\n",
    "    print(\"Grade 15\")\n",
    "elif 40 <= mark < 60:\n",
    "    print(\"Grade 10\")\n",
    "elif 20 <= mark < 40:\n",
    "    print(\"Grade 5\")\n",
    "else:\n",
    "    print(\"No Grade\")\n"
   ]
  },
  {
   "cell_type": "markdown",
   "id": "1877f08b",
   "metadata": {},
   "source": [
    "# Exercise 6: Creating Functions\n",
    "\n",
    "Functions help modularize code by grouping related actions. A function is a block of organized, reusable code that can make your programs more effective, easier to read, and simple to manage. You can think functions as little self-contained programs that can perform a specific task that you can use repeatedly in your code. One of the basic principles in good programming is “do not to repeat yourself”. In other words, you should avoid having duplicate lines of code in your scripts. Functions are a good way to avoid such situations and they can save you a lot of time and effort as you don’t need to tell the computer repeatedly what to do every time it does a common task, such as converting temperatures from Fahrenheit to Celsius. \n",
    "\n",
    "\n",
    "* Define a function square that squares a given number.\n",
    "* Use the function to calculate the square of 7.\n",
    "* Write a function is_prime to check if a number is prime.\n",
    "* Finish the code!"
   ]
  },
  {
   "cell_type": "code",
   "execution_count": 52,
   "id": "9dae8d60",
   "metadata": {},
   "outputs": [
    {
     "name": "stdout",
     "output_type": "stream",
     "text": [
      "Square of 7: 49\n"
     ]
    }
   ],
   "source": [
    "# Define a function square that squares a given number.\n",
    "def square(number):\n",
    "    return number ** 2\n",
    "\n",
    "# Using the function!\n",
    "\n",
    "result = square(7)\n",
    "print(f\"Square of 7: {result}\")\n",
    "\n",
    "# Lets create another function is_prime to check if a number is prime.\n",
    "def is_prime(number):\n",
    "    if number < 2:\n",
    "        return False\n",
    "    for i in range(2, int(number ** 0.5) + 1):\n",
    "        if number % i == 0:\n",
    "            return False\n",
    "    return True\n",
    "\n",
    "# Finish the code here calling the function and adding the input to let the user provide the number."
   ]
  },
  {
   "cell_type": "markdown",
   "id": "01fc540b",
   "metadata": {},
   "source": [
    "# Challenge 6:\n",
    "\n",
    "* Write and use a function to convert Fahrenheit to Celsius. Use the input parameter to let the user enter a number in Fahrenheit and then get the correspondant value in Celsius\n",
    "* Go to https://www.w3schools.com/python/exercise.asp?filename=exercise_functions1 and complete the 6 excersices. Functions are a very important part of Python so we will use extra time to practice that.\n"
   ]
  },
  {
   "cell_type": "code",
   "execution_count": 54,
   "id": "93f63b12",
   "metadata": {},
   "outputs": [
    {
     "name": "stdin",
     "output_type": "stream",
     "text": [
      "Enter the temperature in fahrenheit:  5\n"
     ]
    },
    {
     "name": "stdout",
     "output_type": "stream",
     "text": [
      "the temperature in celsisus is: -15.0\n"
     ]
    }
   ],
   "source": [
    "tempf = int(input(\"Enter the temperature in fahrenheit: \"))\n",
    "\n",
    "def conv(tempf):\n",
    "    return (tempf - 32) * 5/9\n",
    "\n",
    "celsius = conv(tempf)\n",
    "print(f\"the temperature in celsisus is: {celsius}\")"
   ]
  },
  {
   "cell_type": "markdown",
   "id": "fcb5162a",
   "metadata": {},
   "source": [
    "# Exercise 7 Numpy:\n",
    "\n",
    "NumPy is a library for numerical operations in Python. NumPy is a Python library used for working with arrays. It also has functions for working in domain of linear algebra, fourier transform, and matrices. NumPy was created in 2005 by Travis Oliphant. It is an open source project and you can use it freely.\n",
    "\n",
    "NumPy stands for Numerical Python.\n",
    " \n",
    "* Import NumPy and create a 1D array with values 1 to 5. \n",
    "* Create a 2D array with random integers. \n",
    "* Perform element-wise multiplication of two arrays. "
   ]
  },
  {
   "cell_type": "code",
   "execution_count": 57,
   "id": "2c6ef804",
   "metadata": {},
   "outputs": [
    {
     "name": "stdout",
     "output_type": "stream",
     "text": [
      "[1 2 3 4 5]\n"
     ]
    }
   ],
   "source": [
    "import numpy as np\n",
    "\n",
    "arr = np.array([1, 2, 3, 4, 5])\n",
    "\n",
    "print(arr)"
   ]
  },
  {
   "cell_type": "code",
   "execution_count": 61,
   "id": "3eddfb34",
   "metadata": {},
   "outputs": [
    {
     "name": "stdout",
     "output_type": "stream",
     "text": [
      "[[1 2 3]\n",
      " [4 5 6]]\n",
      "[[3 1 9]\n",
      " [6 9 9]\n",
      " [9 4 2]]\n"
     ]
    }
   ],
   "source": [
    "import numpy as np\n",
    "\n",
    "arr = np.array([[1, 2, 3], [4, 5, 6]])\n",
    "\n",
    "print(arr)\n",
    "\n",
    "#Or what if we can use the random function:\n",
    "\n",
    "array_2d = np.random.randint(0, 10, size=(3, 3))\n",
    "print(array_2d)"
   ]
  },
  {
   "cell_type": "code",
   "execution_count": 65,
   "id": "97fa0f40",
   "metadata": {},
   "outputs": [
    {
     "name": "stdout",
     "output_type": "stream",
     "text": [
      "40320\n"
     ]
    }
   ],
   "source": [
    "import numpy as np\n",
    "\n",
    "arr1 = np.array([1, 2, 3, 4])\n",
    "arr2 = np.array([5, 6, 7, 8])\n",
    "\n",
    "x = np.prod([arr1, arr2])\n",
    "\n",
    "print(x)\n"
   ]
  },
  {
   "cell_type": "markdown",
   "id": "87c06759",
   "metadata": {},
   "source": [
    "# Challenge 7:\n",
    "\n",
    "Calculate the mean and standard deviation of elements in a NumPy array. The outcome should have something like ``print(f\"Mean: {mean_value}, Standard Deviation: {std_deviation}\")``"
   ]
  },
  {
   "cell_type": "code",
   "execution_count": 68,
   "id": "c8d9760f",
   "metadata": {},
   "outputs": [
    {
     "name": "stdout",
     "output_type": "stream",
     "text": [
      "Mean: 4.8, Standard Deviation: 2.7856776554368237\n"
     ]
    }
   ],
   "source": [
    "import numpy as np\n",
    "arr = np.random.randint(0,10, size =(1,5))\n",
    "\n",
    "mean_value = np.mean(arr)\n",
    "std_deviation = np.std(arr)\n",
    "print(f\"Mean: {mean_value}, Standard Deviation: {std_deviation}\")"
   ]
  },
  {
   "cell_type": "markdown",
   "id": "0ffb6d41-07cd-4ae6-a919-bd2b77c31ffd",
   "metadata": {},
   "source": [
    "# Exercise 8: Pandas DataFrame\n",
    "\n",
    "Pandas is a powerful data manipulation library.\n",
    "\n",
    "* Create a DataFrame with a dictionary of student names and their marks.\n",
    "* Add a new column for the grade based on the mark.\n",
    "* Filter the DataFrame to show only students with scores above 80.\n",
    "* Read a CSV file into a DataFrame and perform basic data exploration."
   ]
  },
  {
   "cell_type": "code",
   "execution_count": null,
   "id": "937f9f0d",
   "metadata": {},
   "outputs": [],
   "source": [
    "import pandas as pd\n",
    "\n",
    "# Create a DataFrame with a dictionary of student names and their scores.\n",
    "data = {\"Student\": [\"Alice\", \"Bob\", \"Charlie\"], \"Mark\": [85, 92, 78]} # Do you recall what a dictionary is???\n",
    "df = pd.DataFrame(data)\n",
    "\n",
    "# Add a new column for the grade based on the score using a loop.\n",
    "grades = []\n",
    "for score in df[\"Mark\"]:\n",
    "    if score >= 90:\n",
    "        grades.append(\"A\")\n",
    "    elif score >= 80:\n",
    "        grades.append(\"B\")\n",
    "    else:\n",
    "        grades.append(\"C\")\n",
    "\n",
    "df[\"Grade\"] = grades\n",
    "\n",
    "# What if I can tell you there is a way you can avoid this long for loop, by using a function call lambda to run over each row in your dataframe., uncomment the following line and try that out.\n",
    "# compare the results, and make sure you understand what the code is doing.\n",
    "#df[\"Grade\"] = df[\"Mark\"].apply(lambda x: \"A\" if x >= 90 else \"B\" if x >= 80 else \"C\")\n",
    "\n",
    "\n",
    "# Filter the DataFrame to show only students with scores above 80.\n",
    "filtered_df = df[df[\"Mark\"] > 80]\n",
    "\n",
    "# Read a CSV file into a DataFrame and perform basic data exploration.\n",
    "# There is a world_cities.csv in the Moodle folder, make sure you add that in the folder where you have this notebook/\n",
    "\n",
    "csv_df = pd.read_csv('world_cities.csv')\n",
    "print(csv_df.head())"
   ]
  },
  {
   "cell_type": "markdown",
   "id": "6510f957",
   "metadata": {},
   "source": [
    "# Challenge 8:\n",
    "\n",
    "You have the following dataframes 'sales_data' and 'movie_ratings'\n"
   ]
  },
  {
   "cell_type": "code",
   "execution_count": null,
   "id": "cf46ad3e",
   "metadata": {},
   "outputs": [],
   "source": [
    "import pandas as pd\n",
    "\n",
    "sales_data_dict = {\n",
    "    'Date': ['2022-01-01', '2022-01-02', '2022-01-03', '2022-01-04'],\n",
    "    'Region': ['North', 'South', 'East', 'West'],\n",
    "    'Product': ['A', 'B', 'A', 'C'],\n",
    "    'Quantity': [15, 8, 12, 10],\n",
    "    'Revenue': [1500, 1200, 1800, 900]\n",
    "}\n",
    "\n",
    "sales_data = pd.DataFrame(sales_data_dict)\n",
    "\n",
    "\n",
    "movie_ratings_dict = {\n",
    "    'Title': ['Movie1', 'Movie2', 'Movie3', 'Movie4'],\n",
    "    'Genre': ['Action', 'Drama', 'Comedy', 'Thriller'],\n",
    "    'Year': [2015, 2010, 2018, 2011],\n",
    "    'Rating': [8.5, 7.8, 9.2, 8.0]\n",
    "}\n",
    "\n",
    "movie_ratings = pd.DataFrame(movie_ratings_dict)\n",
    "\n",
    "print(sales_data)\n",
    "print(movie_ratings)\n"
   ]
  },
  {
   "cell_type": "markdown",
   "id": "b40eb74d",
   "metadata": {},
   "source": [
    "* Display the first 5 rows of the DataFrame 'sales_data'\n",
    "* Use `loc` to filter and display rows where the \"Quantity\" is greater than 10 and the \"Region\" is \"North\".\n",
    "* Use `iloc` to display the values in the first row and the first three columns.\n",
    "* Calculate the total sales for each region and display the result.\n",
    "\n",
    "* Display the last 3 rows of the DataFrame 'movie_ratings'.\n",
    "* Calculate and display the average rating for each genre."
   ]
  },
  {
   "cell_type": "code",
   "execution_count": null,
   "id": "8bef4617",
   "metadata": {},
   "outputs": [],
   "source": []
  },
  {
   "cell_type": "markdown",
   "id": "1492e001",
   "metadata": {},
   "source": [
    "# Exercise 9: GeoPandas and Rasterio:\n",
    "\n",
    "GeoPandas deals with geospatial data, and Rasterio is used for working with raster data.\n",
    "\n",
    "* Import GeoPandas and Rasterio libraries.\n",
    "* Read a shapefile into a GeoDataFrame.\n",
    "* Open and display a raster image using Rasterio.\n",
    "* Let's recall how to perform a spatial join between a GeoDataFrame and a raster dataset.\n",
    "\n"
   ]
  },
  {
   "cell_type": "code",
   "execution_count": 11,
   "id": "263e879c",
   "metadata": {},
   "outputs": [],
   "source": [
    "import geopandas as gpd"
   ]
  },
  {
   "cell_type": "code",
   "execution_count": null,
   "id": "0d56c332",
   "metadata": {},
   "outputs": [],
   "source": [
    "raster_path = 'elev.tif'\n",
    "raster = rasterio.open(raster_path)\n",
    "show(raster)"
   ]
  },
  {
   "cell_type": "markdown",
   "id": "6f544939",
   "metadata": {},
   "source": [
    "# Challenge 9:\n",
    "\n",
    "* Recreate the explore map, but now using one of the columns to create a choropleth map Check this link to get more information https://geopandas.org/en/stable/docs/reference/api/geopandas.GeoDataFrame.explore.html\n",
    "\n",
    "* Get the histogram of the raster you plot in the exercise. Here you can get an example of how to do it: https://rasterio.readthedocs.io/en/latest/topics/plotting.html\n"
   ]
  },
  {
   "cell_type": "code",
   "execution_count": 7,
   "id": "e1abe695",
   "metadata": {},
   "outputs": [
    {
     "ename": "DriverError",
     "evalue": "Road_Safety_Accidents.shp: No such file or directory",
     "output_type": "error",
     "traceback": [
      "\u001b[1;31m---------------------------------------------------------------------------\u001b[0m",
      "\u001b[1;31mCPLE_OpenFailedError\u001b[0m                      Traceback (most recent call last)",
      "File \u001b[1;32mfiona\\ogrext.pyx:136\u001b[0m, in \u001b[0;36mfiona.ogrext.gdal_open_vector\u001b[1;34m()\u001b[0m\n",
      "File \u001b[1;32mfiona\\_err.pyx:291\u001b[0m, in \u001b[0;36mfiona._err.exc_wrap_pointer\u001b[1;34m()\u001b[0m\n",
      "\u001b[1;31mCPLE_OpenFailedError\u001b[0m: Road_Safety_Accidents.shp: No such file or directory",
      "\nDuring handling of the above exception, another exception occurred:\n",
      "\u001b[1;31mDriverError\u001b[0m                               Traceback (most recent call last)",
      "Cell \u001b[1;32mIn[7], line 8\u001b[0m\n\u001b[0;32m      5\u001b[0m shapefile_path \u001b[38;5;241m=\u001b[39m \u001b[38;5;124m'\u001b[39m\u001b[38;5;124mRoad_Safety_Accidents.shp\u001b[39m\u001b[38;5;124m'\u001b[39m\n\u001b[0;32m      7\u001b[0m \u001b[38;5;66;03m# Read the shapefile into a GeoDataFrame\u001b[39;00m\n\u001b[1;32m----> 8\u001b[0m gdf \u001b[38;5;241m=\u001b[39m \u001b[43mgpd\u001b[49m\u001b[38;5;241;43m.\u001b[39;49m\u001b[43mread_file\u001b[49m\u001b[43m(\u001b[49m\u001b[43mshapefile_path\u001b[49m\u001b[43m)\u001b[49m\n\u001b[0;32m     10\u001b[0m \u001b[38;5;66;03m# Plotting the GeoDataFrame with a custom colormap\u001b[39;00m\n\u001b[0;32m     11\u001b[0m gdf\u001b[38;5;241m.\u001b[39mplot(column\u001b[38;5;241m=\u001b[39m\u001b[38;5;124m'\u001b[39m\u001b[38;5;124myour_column_here\u001b[39m\u001b[38;5;124m'\u001b[39m, cmap\u001b[38;5;241m=\u001b[39m\u001b[38;5;124m'\u001b[39m\u001b[38;5;124mviridis\u001b[39m\u001b[38;5;124m'\u001b[39m, legend\u001b[38;5;241m=\u001b[39m\u001b[38;5;28;01mTrue\u001b[39;00m)\n",
      "File \u001b[1;32m~\\miniforge-pypy3\\envs\\ua\\lib\\site-packages\\geopandas\\io\\file.py:259\u001b[0m, in \u001b[0;36m_read_file\u001b[1;34m(filename, bbox, mask, rows, engine, **kwargs)\u001b[0m\n\u001b[0;32m    256\u001b[0m     path_or_bytes \u001b[38;5;241m=\u001b[39m filename\n\u001b[0;32m    258\u001b[0m \u001b[38;5;28;01mif\u001b[39;00m engine \u001b[38;5;241m==\u001b[39m \u001b[38;5;124m\"\u001b[39m\u001b[38;5;124mfiona\u001b[39m\u001b[38;5;124m\"\u001b[39m:\n\u001b[1;32m--> 259\u001b[0m     \u001b[38;5;28;01mreturn\u001b[39;00m _read_file_fiona(\n\u001b[0;32m    260\u001b[0m         path_or_bytes, from_bytes, bbox\u001b[38;5;241m=\u001b[39mbbox, mask\u001b[38;5;241m=\u001b[39mmask, rows\u001b[38;5;241m=\u001b[39mrows, \u001b[38;5;241m*\u001b[39m\u001b[38;5;241m*\u001b[39mkwargs\n\u001b[0;32m    261\u001b[0m     )\n\u001b[0;32m    262\u001b[0m \u001b[38;5;28;01melif\u001b[39;00m engine \u001b[38;5;241m==\u001b[39m \u001b[38;5;124m\"\u001b[39m\u001b[38;5;124mpyogrio\u001b[39m\u001b[38;5;124m\"\u001b[39m:\n\u001b[0;32m    263\u001b[0m     \u001b[38;5;28;01mreturn\u001b[39;00m _read_file_pyogrio(\n\u001b[0;32m    264\u001b[0m         path_or_bytes, bbox\u001b[38;5;241m=\u001b[39mbbox, mask\u001b[38;5;241m=\u001b[39mmask, rows\u001b[38;5;241m=\u001b[39mrows, \u001b[38;5;241m*\u001b[39m\u001b[38;5;241m*\u001b[39mkwargs\n\u001b[0;32m    265\u001b[0m     )\n",
      "File \u001b[1;32m~\\miniforge-pypy3\\envs\\ua\\lib\\site-packages\\geopandas\\io\\file.py:303\u001b[0m, in \u001b[0;36m_read_file_fiona\u001b[1;34m(path_or_bytes, from_bytes, bbox, mask, rows, where, **kwargs)\u001b[0m\n\u001b[0;32m    300\u001b[0m     reader \u001b[38;5;241m=\u001b[39m fiona\u001b[38;5;241m.\u001b[39mopen\n\u001b[0;32m    302\u001b[0m \u001b[38;5;28;01mwith\u001b[39;00m fiona_env():\n\u001b[1;32m--> 303\u001b[0m     \u001b[38;5;28;01mwith\u001b[39;00m reader(path_or_bytes, \u001b[38;5;241m*\u001b[39m\u001b[38;5;241m*\u001b[39mkwargs) \u001b[38;5;28;01mas\u001b[39;00m features:\n\u001b[0;32m    304\u001b[0m         crs \u001b[38;5;241m=\u001b[39m features\u001b[38;5;241m.\u001b[39mcrs_wkt\n\u001b[0;32m    305\u001b[0m         \u001b[38;5;66;03m# attempt to get EPSG code\u001b[39;00m\n",
      "File \u001b[1;32m~\\miniforge-pypy3\\envs\\ua\\lib\\site-packages\\fiona\\env.py:457\u001b[0m, in \u001b[0;36mensure_env_with_credentials.<locals>.wrapper\u001b[1;34m(*args, **kwds)\u001b[0m\n\u001b[0;32m    454\u001b[0m     session \u001b[38;5;241m=\u001b[39m DummySession()\n\u001b[0;32m    456\u001b[0m \u001b[38;5;28;01mwith\u001b[39;00m env_ctor(session\u001b[38;5;241m=\u001b[39msession):\n\u001b[1;32m--> 457\u001b[0m     \u001b[38;5;28;01mreturn\u001b[39;00m f(\u001b[38;5;241m*\u001b[39margs, \u001b[38;5;241m*\u001b[39m\u001b[38;5;241m*\u001b[39mkwds)\n",
      "File \u001b[1;32m~\\miniforge-pypy3\\envs\\ua\\lib\\site-packages\\fiona\\__init__.py:335\u001b[0m, in \u001b[0;36mopen\u001b[1;34m(fp, mode, driver, schema, crs, encoding, layer, vfs, enabled_drivers, crs_wkt, allow_unsupported_drivers, **kwargs)\u001b[0m\n\u001b[0;32m    332\u001b[0m     path \u001b[38;5;241m=\u001b[39m parse_path(fp)\n\u001b[0;32m    334\u001b[0m \u001b[38;5;28;01mif\u001b[39;00m mode \u001b[38;5;129;01min\u001b[39;00m (\u001b[38;5;124m\"\u001b[39m\u001b[38;5;124ma\u001b[39m\u001b[38;5;124m\"\u001b[39m, \u001b[38;5;124m\"\u001b[39m\u001b[38;5;124mr\u001b[39m\u001b[38;5;124m\"\u001b[39m):\n\u001b[1;32m--> 335\u001b[0m     colxn \u001b[38;5;241m=\u001b[39m Collection(\n\u001b[0;32m    336\u001b[0m         path,\n\u001b[0;32m    337\u001b[0m         mode,\n\u001b[0;32m    338\u001b[0m         driver\u001b[38;5;241m=\u001b[39mdriver,\n\u001b[0;32m    339\u001b[0m         encoding\u001b[38;5;241m=\u001b[39mencoding,\n\u001b[0;32m    340\u001b[0m         layer\u001b[38;5;241m=\u001b[39mlayer,\n\u001b[0;32m    341\u001b[0m         enabled_drivers\u001b[38;5;241m=\u001b[39menabled_drivers,\n\u001b[0;32m    342\u001b[0m         allow_unsupported_drivers\u001b[38;5;241m=\u001b[39mallow_unsupported_drivers,\n\u001b[0;32m    343\u001b[0m         \u001b[38;5;241m*\u001b[39m\u001b[38;5;241m*\u001b[39mkwargs\n\u001b[0;32m    344\u001b[0m     )\n\u001b[0;32m    345\u001b[0m \u001b[38;5;28;01melif\u001b[39;00m mode \u001b[38;5;241m==\u001b[39m \u001b[38;5;124m\"\u001b[39m\u001b[38;5;124mw\u001b[39m\u001b[38;5;124m\"\u001b[39m:\n\u001b[0;32m    346\u001b[0m     colxn \u001b[38;5;241m=\u001b[39m Collection(\n\u001b[0;32m    347\u001b[0m         path,\n\u001b[0;32m    348\u001b[0m         mode,\n\u001b[1;32m   (...)\u001b[0m\n\u001b[0;32m    357\u001b[0m         \u001b[38;5;241m*\u001b[39m\u001b[38;5;241m*\u001b[39mkwargs\n\u001b[0;32m    358\u001b[0m     )\n",
      "File \u001b[1;32m~\\miniforge-pypy3\\envs\\ua\\lib\\site-packages\\fiona\\collection.py:234\u001b[0m, in \u001b[0;36mCollection.__init__\u001b[1;34m(self, path, mode, driver, schema, crs, encoding, layer, vsi, archive, enabled_drivers, crs_wkt, ignore_fields, ignore_geometry, include_fields, wkt_version, allow_unsupported_drivers, **kwargs)\u001b[0m\n\u001b[0;32m    232\u001b[0m \u001b[38;5;28;01mif\u001b[39;00m \u001b[38;5;28mself\u001b[39m\u001b[38;5;241m.\u001b[39mmode \u001b[38;5;241m==\u001b[39m \u001b[38;5;124m\"\u001b[39m\u001b[38;5;124mr\u001b[39m\u001b[38;5;124m\"\u001b[39m:\n\u001b[0;32m    233\u001b[0m     \u001b[38;5;28mself\u001b[39m\u001b[38;5;241m.\u001b[39msession \u001b[38;5;241m=\u001b[39m Session()\n\u001b[1;32m--> 234\u001b[0m     \u001b[38;5;28mself\u001b[39m\u001b[38;5;241m.\u001b[39msession\u001b[38;5;241m.\u001b[39mstart(\u001b[38;5;28mself\u001b[39m, \u001b[38;5;241m*\u001b[39m\u001b[38;5;241m*\u001b[39mkwargs)\n\u001b[0;32m    235\u001b[0m \u001b[38;5;28;01melif\u001b[39;00m \u001b[38;5;28mself\u001b[39m\u001b[38;5;241m.\u001b[39mmode \u001b[38;5;129;01min\u001b[39;00m (\u001b[38;5;124m\"\u001b[39m\u001b[38;5;124ma\u001b[39m\u001b[38;5;124m\"\u001b[39m, \u001b[38;5;124m\"\u001b[39m\u001b[38;5;124mw\u001b[39m\u001b[38;5;124m\"\u001b[39m):\n\u001b[0;32m    236\u001b[0m     \u001b[38;5;28mself\u001b[39m\u001b[38;5;241m.\u001b[39msession \u001b[38;5;241m=\u001b[39m WritingSession()\n",
      "File \u001b[1;32mfiona\\ogrext.pyx:587\u001b[0m, in \u001b[0;36mfiona.ogrext.Session.start\u001b[1;34m()\u001b[0m\n",
      "File \u001b[1;32mfiona\\ogrext.pyx:143\u001b[0m, in \u001b[0;36mfiona.ogrext.gdal_open_vector\u001b[1;34m()\u001b[0m\n",
      "\u001b[1;31mDriverError\u001b[0m: Road_Safety_Accidents.shp: No such file or directory"
     ]
    }
   ],
   "source": [
    "import geopandas as gpd\n",
    "import matplotlib.pyplot as plt\n",
    "\n",
    "# Assuming you have defined your shapefile_path correctly\n",
    "shapefile_path = 'Road_Safety_Accidents.shp'\n",
    "\n",
    "# Read the shapefile into a GeoDataFrame\n",
    "gdf = gpd.read_file(shapefile_path)\n",
    "\n",
    "# Plotting the GeoDataFrame with a custom colormap\n",
    "gdf.plot(column='your_column_here', cmap='viridis', legend=True)\n",
    "\n",
    "# Show the plot\n",
    "plt.show()"
   ]
  },
  {
   "cell_type": "markdown",
   "id": "aa48cd54",
   "metadata": {},
   "source": [
    "# Challenge 10: Last Mile\n",
    "\n",
    "Now make sure you Jupyter Notebook includes all the outcomes from the Excersices and Challenges, make sure you comment all the code you had to add and make sure you describe what are you doing and make sure you have the correct outcomes. Finally pull all your changes  to your UA repo, in this case all your work is save in the cloud!"
   ]
  }
 ],
 "metadata": {
  "kernelspec": {
   "display_name": "Python 3 (ipykernel)",
   "language": "python",
   "name": "python3"
  },
  "language_info": {
   "codemirror_mode": {
    "name": "ipython",
    "version": 3
   },
   "file_extension": ".py",
   "mimetype": "text/x-python",
   "name": "python",
   "nbconvert_exporter": "python",
   "pygments_lexer": "ipython3",
   "version": "3.10.13"
  }
 },
 "nbformat": 4,
 "nbformat_minor": 5
}
